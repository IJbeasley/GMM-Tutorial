{
 "cells": [
  {
   "cell_type": "markdown",
   "metadata": {},
   "source": [
    "[The Jupyter Project](https://docs.jupyter.org/en/latest/)\n",
    "\n",
    "[JupyterLab](https://jupyter.org/try-jupyter/lab/) - more stuff than just the barebones jupyter (extensions and so on)\n",
    "\n",
    "[Google Colab](https://colab.research.google.com/) (the google docs of coding) *will have to put your data on google drive\n",
    "\n",
    "#### The notebook format is useful for situations where showing only outputs or only code are not convient. Using a notebook layout your outputs can be visualized immidiatly following your code.\n",
    "\n",
    "\n",
    "#### [Jupyter lab example in browser](https://jupyter.org/try-jupyter/lab/)\n"
   ]
  },
  {
   "cell_type": "code",
   "execution_count": null,
   "metadata": {},
   "outputs": [],
   "source": [
    "# pip install jupyterlab\n",
    "# jupyter lab"
   ]
  },
  {
   "cell_type": "code",
   "execution_count": null,
   "metadata": {},
   "outputs": [],
   "source": [
    "# pip install notebook\n",
    "# jupyter notebook"
   ]
  },
  {
   "cell_type": "markdown",
   "metadata": {},
   "source": [
    "## Useful Jupyter Notebook Shortcuts\n",
    "\n",
    "### **Command Mode (Press `Esc` to to exit cell)**\n",
    "- **A**: Insert a new cell **above** the current cell.\n",
    "- **B**: Insert a new cell **below** the current cell.\n",
    "- **X**: Cut the selected cell.\n",
    "- **C**: Copy the selected cell.\n",
    "- **V**: Paste the copied or cut cell **below** the current cell.\n",
    "- **D, D** (press `D` twice): Delete the selected cell.\n",
    "- **Z**: Undo the last cell operation (e.g., cell deletion).\n",
    "- **Shift + M**: Merge selected cells or the current cell with the cell below.\n",
    "- **Y**: Change the cell to **Code** mode.\n",
    "- **M**: Change the cell to **Markdown** mode.\n",
    "- **H**: Show the list of all keyboard shortcuts.\n",
    "- **Shift + Enter**: Run the current cell and select the next cell.\n",
    "- **Ctrl + Enter**: Run the current cell without moving to the next cell.\n",
    "- **Alt + Enter**: Run the current cell and insert a new cell below.\n",
    "\n",
    "### **Edit Mode (Press `Enter` to to enter cell)**\n",
    "- **Ctrl + A**: Select all text in the cell.\n",
    "- **Ctrl + Z**: Undo the last change.\n",
    "- **Ctrl + Shift + Z**: Redo the last undone change.\n",
    "- **Ctrl + Home**: Move to the beginning of the cell.\n",
    "- **Ctrl + End**: Move to the end of the cell.\n",
    "\n",
    "### **Other Shortcuts**\n",
    "- **Shift + L**: Toggle line numbers in the code cells.\n",
    "- **0, 0** (press `0` twice): Restart the notebook kernel.\n",
    "- **Ctrl + S**: remember to save your notebooks.\n",
    "\n",
    "\n",
    "\n"
   ]
  },
  {
   "cell_type": "markdown",
   "metadata": {},
   "source": [
    "### Jupyternotebook runs on IPython and thus has access to cell magic commands\n",
    "\n",
    "#### Python timing (`%%time` or `%%timeit`)\n"
   ]
  },
  {
   "cell_type": "code",
   "execution_count": 1,
   "metadata": {},
   "outputs": [
    {
     "name": "stdout",
     "output_type": "stream",
     "text": [
      "CPU times: user 2.45 ms, sys: 8 µs, total: 2.46 ms\n",
      "Wall time: 2.46 ms\n"
     ]
    }
   ],
   "source": [
    "%%time\n",
    "# Measures how long the cell takes to execute\n",
    "for i in range(100000):\n",
    "    pass"
   ]
  },
  {
   "cell_type": "code",
   "execution_count": 2,
   "metadata": {},
   "outputs": [
    {
     "name": "stdout",
     "output_type": "stream",
     "text": [
      "1.62 ms ± 42.4 µs per loop (mean ± std. dev. of 7 runs, 1,000 loops each)\n"
     ]
    }
   ],
   "source": [
    "%%timeit\n",
    "# Repeated timing for more accurate performance measurements - useful if suspected code variability\n",
    "[ i for i in range(100000) ]"
   ]
  },
  {
   "cell_type": "code",
   "execution_count": 3,
   "metadata": {},
   "outputs": [
    {
     "name": "stdout",
     "output_type": "stream",
     "text": [
      "Hello from Bash!\n"
     ]
    }
   ],
   "source": [
    "%%bash\n",
    "echo \"Hello from Bash!\""
   ]
  },
  {
   "cell_type": "code",
   "execution_count": 4,
   "metadata": {},
   "outputs": [
    {
     "data": {
      "text/html": [
       "<h1>Hello from HTML!</h1>\n",
       "<p>This lets you render inline HTML in your notebook output.</p>\n"
      ],
      "text/plain": [
       "<IPython.core.display.HTML object>"
      ]
     },
     "metadata": {},
     "output_type": "display_data"
    }
   ],
   "source": [
    "%%html\n",
    "<h1>Hello from HTML!</h1>\n",
    "<p>This lets you render inline HTML in your notebook output.</p>"
   ]
  },
  {
   "cell_type": "markdown",
   "metadata": {},
   "source": [
    "## Recommendations\n",
    "* Create a new virtual enviroment to keep track of dependencies\n",
    "* conda env export > environment.yml\n",
    "* pip freeze > requirements.txt"
   ]
  },
  {
   "cell_type": "markdown",
   "metadata": {},
   "source": [
    "* Write down detailed information, this will be helpful for others, and also for yourself when returning to the project sometimes months down the line"
   ]
  },
  {
   "cell_type": "markdown",
   "metadata": {},
   "source": [
    "<div style=\"text-align: center; \n",
    "            background-color: #fff; \n",
    "            display: inline-block; \n",
    "            padding: 10px;\">\n",
    "  <img src=\"https://ploomber.io/images/blog/clean-nbs/nb.png\"\n",
    "       alt=\"Large Image\"\n",
    "       style=\"width: 600px;\" />\n",
    "</div>"
   ]
  },
  {
   "cell_type": "markdown",
   "metadata": {},
   "source": [
    ".ipynb files can be modular similarly to .py files, Recommended to split them when the project is long\n",
    "\n",
    "MasterNotebook.ipynb\n",
    "\n",
    "to Run NotebookOne.ipynb\n",
    "* %run ./NotebookOne.ipynb\n",
    "\n",
    "* %run ./NotebookTwo.ipynb\n",
    "\n",
    "the master notebook will execute all cells in order\n",
    "\n",
    "if you want to only import (e.g functions)\n",
    "\n",
    "* !pip install nbimporter\n",
    "helper_functions.ipynb -> make helper functions notebook\n",
    "\n",
    "in the master notebook\n",
    "* import nbimporter\n",
    "* import helper_functions\n",
    "\n"
   ]
  },
  {
   "cell_type": "markdown",
   "metadata": {},
   "source": [
    "<div style=\"text-align: center; \n",
    "            background-color: #fff; \n",
    "            display: inline-block; \n",
    "            padding: 10px;\">\n",
    "  <img src=\"https://ploomber.io/images/blog/clean-nbs/short.png\"\n",
    "       alt=\"Large Image\"\n",
    "       style=\"width: 600px;\" />\n",
    "</div>"
   ]
  },
  {
   "cell_type": "markdown",
   "metadata": {},
   "source": [
    "### Use the correct visualizations [Data-to-viz](https://www.data-to-viz.com/)"
   ]
  },
  {
   "cell_type": "markdown",
   "metadata": {},
   "source": [
    "<div style=\"text-align: center; \n",
    "            background-color: #fff; \n",
    "            display: inline-block; \n",
    "            padding: 10px;\">\n",
    "  <img src=\"https://www.data-to-viz.com/img/poster/poster_small.png\"\n",
    "       alt=\"Large Image\"\n",
    "       style=\"width: 600px;\" />\n",
    "</div>\n",
    "\n"
   ]
  },
  {
   "cell_type": "markdown",
   "metadata": {},
   "source": [
    "### Remote/Wynton \n",
    "\n",
    "[Running a Jupyter notebook on wynton](https://www.data-to-viz.com/)\n",
    "\n",
    "[Jupyter notebook on VScode](https://code.visualstudio.com/docs/datascience/jupyter-notebooks)\n",
    "\n",
    "[SSH/Remote on VScode](https://code.visualstudio.com/docs/remote/ssh)\n"
   ]
  },
  {
   "cell_type": "markdown",
   "metadata": {},
   "source": [
    "\n",
    "### Other resources\n",
    "```\n",
    "On writing clean Jupyter notebooks\n",
    "Eduardo Blancas\n",
    "```\n",
    "[Blog](https://ploomber.io/blog/clean-nbs/)\n",
    "\n",
    "[Data-to-viz](https://www.data-to-viz.com/) - make all kinds of plots\n",
    "\n",
    "[Jupyterbook](https://jupyterbook.org/en/stable/intro.html) - We can put all the algorithm tutorials as a book depending on your preference\n",
    "\n"
   ]
  },
  {
   "cell_type": "markdown",
   "metadata": {},
   "source": [
    "## Before You Share\n",
    "A shared notebook will appear exactly in the state it was in when you export or last save it, including the output of any code cells, so you can run all/clear all outputs depending on use case.\n"
   ]
  },
  {
   "cell_type": "markdown",
   "metadata": {},
   "source": [
    "***"
   ]
  },
  {
   "cell_type": "markdown",
   "metadata": {},
   "source": [
    "[Back to Top of the page](#top)\n",
    "\n",
    "\n",
    "[Back to Table of Contents](#table-of-contents)\n",
    "\n",
    "\n",
    "<img style=\"float: right;\" src=\"https://identity.ucsf.edu/sites/g/files/tkssra266/f/wysiwyg/logo_signature_0.jpg\" alt=\"UCSF Logo\" width=\"200px\"/>\n"
   ]
  }
 ],
 "metadata": {
  "kernelspec": {
   "display_name": "Python 3",
   "language": "python",
   "name": "python3"
  },
  "language_info": {
   "codemirror_mode": {
    "name": "ipython",
    "version": 3
   },
   "file_extension": ".py",
   "mimetype": "text/x-python",
   "name": "python",
   "nbconvert_exporter": "python",
   "pygments_lexer": "ipython3",
   "version": "3.9.6"
  }
 },
 "nbformat": 4,
 "nbformat_minor": 2
}
