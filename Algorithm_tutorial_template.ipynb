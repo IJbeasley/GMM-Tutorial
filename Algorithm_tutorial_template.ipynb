{
 "cells": [
  {
   "cell_type": "markdown",
   "metadata": {
    "slideshow": {
     "slide_type": "slide"
    }
   },
   "source": [
    "<a id=\"top\"></a>\n",
    "# Your Tutorial Title"
   ]
  },
  {
   "cell_type": "markdown",
   "metadata": {
    "slideshow": {
     "slide_type": "skip"
    }
   },
   "source": [
    "***"
   ]
  },
  {
   "cell_type": "markdown",
   "metadata": {},
   "source": [
    "Main Content\n",
    "\n",
    "The main content of your algorithm should be subdivided into sections with useful, descriptive headings that make sense based on the content. Break sections up with standard Markdown syntax headings, example below:\n"
   ]
  },
  {
   "cell_type": "markdown",
   "metadata": {},
   "source": [
    "## Table of Contents\n",
    "- [Learning Goals](#learning-goals)\n",
    "- [Introduction](#introduction)\n",
    "- [Imports](#imports)\n",
    "- [The Algorithm](#the-algorithm)\n",
    "    - [Example use case/problem to solve](#example-use-case/problem-to-solve)\n",
    "    - [Terms and Explanations](#terms-and-explanations)\n",
    "- [Data used](#data-used)\n",
    "    - [Visualizing the example data](#visualizing-the-example-data)\n",
    "\n",
    "- [Algorithm implementation](#algorithm-implementation) - define your classes, functions, and variables here\n",
    "    - [Visualizing one step in the algorithm](#visualizing-one-step-in-the-algorithm) - or how a run looks like\n",
    "    - [Algorithm output](#algorithm-output)\n",
    "    - [Algorithm run time](#algorithm-run-time)\n",
    "    - [Algorithm weaknesses](#algorithm-weaknesses)\n",
    "    - [Algorithm use cases](#algorithm-use-cases)\n",
    "\n",
    "\n",
    "\n",
    "- [Additional Resources](#additional-resources)\n",
    "- [About this Notebook](#about-this-notebook)\n",
    "- [References](#references)\n",
    "    - [Papers](#papers)\n",
    "    - [Package citation/github page](#package-citation/github-page)\n",
    "    - [Other resources](#other-resources)\n"
   ]
  },
  {
   "cell_type": "markdown",
   "metadata": {},
   "source": [
    "## Learning Goals\n",
    "Write three to five learning goals for your algorithm tutorial. A learning goal should describe what a reader should know or be able to do by the end of the algorithm tutorial that they didn't know or couldn't do before.\n",
    "\n",
    "```\n",
    "By the end of this tutorial, you will:\n",
    "\n",
    "- Understand the presented algorithm\n",
    "- Be able to apply the algorithm\n",
    "- Be able to identify a use case for the algorithm\n",
    "- Etc...\n",
    "\n",
    "```"
   ]
  },
  {
   "cell_type": "markdown",
   "metadata": {
    "slideshow": {
     "slide_type": "slide"
    }
   },
   "source": [
    "## The Algorithm\n",
    "Write a short introduction explaining the purpose of the algorithm. Define any terms or common acronyms that your audience may not know. If you're using some kind of domain-specific symbol or unusual mathematical concept, make sure you define it (for example, in its mathematical form) and link to any definitions (from literature, textbooks, arxiv,  etc.).\n",
    "\n",
    "If there are background materials or resources that may be useful to the reader to provide additional context, you may link to it here. If your algorithm is a continuation from another algorithm, or there are other algorithms that would be useful for the reader to read, mention them here as well."
   ]
  },
  {
   "cell_type": "markdown",
   "metadata": {},
   "source": [
    "***"
   ]
  },
  {
   "cell_type": "markdown",
   "metadata": {},
   "source": [
    "## Example use case/problem to solve\n",
    "\n",
    "Students in the algorithms class are presenting algorithms of their choice, how can we match them into groups? (Algorithms have preferences for students somehow)"
   ]
  },
  {
   "cell_type": "markdown",
   "metadata": {},
   "source": [
    "## Terms and Explanations\n",
    "\n",
    "Before diving into the Gale–Shapley algorithm, it is important to understand the key terms and concepts used in the algorithm. Below is a list of terms along with their explanations:\n",
    "\n",
    "- **Stable Matching**: A matching is stable if there are no two elements (student \\( s \\) and algorithm \\( a \\)) such that \\( s \\) prefers \\( a \\) over their current match and \\( a \\) prefers \\( s \\) over their current match.\n",
    "\n",
    "- **Preference List**: A ranking of options in order of preference. In this algorithm:\n",
    "  - Students have a preference list for algorithms.\n",
    "  - Algorithms have a preference list for students.\n",
    "\n",
    "- **Unmatched**: A student or algorithm that is not yet paired in the current iteration of the matching process.\n",
    "\n",
    "- **Proposal**: When a student proposes to an algorithm, they express their desire to be matched with it.\n",
    "\n",
    "- **Rejection**: An algorithm can reject a proposal if it prefers its current partner or is already matched.\n",
    "\n",
    "- **Current Partner**: The student or algorithm that is currently paired with another in the matching.\n",
    "\n",
    "- **Blocking Pair**: A pair \\( (s, a) \\) that would prefer each other over their current matches. A stable matching has no blocking pairs.\n",
    "\n",
    "- **M (Matching)**: The set of all pairs \\( (s, a) \\) in the current state of the algorithm.\n",
    "\n",
    "---\n",
    "\n",
    "This section will make it easier for readers to follow along and understand the steps of your chosen algorithm.\n"
   ]
  },
  {
   "cell_type": "markdown",
   "metadata": {
    "vscode": {
     "languageId": "latex"
    }
   },
   "source": [
    "$$\n",
    "\\textbf{Algorithm: Gale–Shapley Stable Matching}\n",
    "$$\n",
    "\n",
    "**Input:** Preference lists for two sets (students and algorithms).  \n",
    "**Output:** A stable matching between the two sets.\n",
    "\n",
    "1. Initialize \\( M \\) to the empty matching.  \n",
    "2. While there exists a student \\( s \\) who is unmatched and has not proposed to all algorithms:  \n",
    "    - Let \\( a \\) be the first algorithm on \\( s \\)'s list to whom \\( s \\) has not yet proposed.  \n",
    "    - If \\( a \\) is unmatched:  \n",
    "        - Add \\( (s, a) \\) to \\( M \\).  \n",
    "    - Else if \\( a \\) prefers \\( s \\) to its current partner \\( s' \\):  \n",
    "        - Replace \\( (s', a) \\) with \\( (s, a) \\) in \\( M \\).  \n",
    "    - Else:  \n",
    "        - \\( a \\) rejects \\( s \\).  \n",
    "3. Return \\( M \\).\n"
   ]
  },
  {
   "cell_type": "markdown",
   "metadata": {
    "slideshow": {
     "slide_type": "slide"
    }
   },
   "source": [
    "## Imports\n",
    "Describe the libraries we're using here. If there's something unusual, explain what the library is, and why we need it.\n",
    "- *numpy* to handle array functions\n",
    "- *matplotlib.pyplot* for plotting data\n",
    "- *IPython* to plot tables in customizable font"
   ]
  },
  {
   "cell_type": "code",
   "execution_count": 61,
   "metadata": {
    "slideshow": {
     "slide_type": "fragment"
    }
   },
   "outputs": [],
   "source": [
    "%matplotlib inline\n",
    "import numpy as np\n",
    "import matplotlib.pyplot as plt\n",
    "from IPython.display import display, HTML"
   ]
  },
  {
   "cell_type": "markdown",
   "metadata": {
    "slideshow": {
     "slide_type": "slide"
    }
   },
   "source": [
    "### Data used\n",
    "\n",
    "Loading data and file information should appear within your main content, at the same time the data is going to be used, if possible. These elements of your tutorial can be their own sections within the main content, but avoid generic or vague headings like “Loading Data” and instead use descriptive headings pertinent to the content of the tutorial and the actual data being downloaded or files being used.\n",
    "\n",
    "Try to avoid needing to download a lot of data to run the tutorial properly. If algorithm is slow/ a lot of data, run once and then show outputs in class.\n",
    "\n",
    "If external data is being used, Explain pertinent details. Especially file extensions and formats if they are not standard files/domain specific.\n",
    "\n",
    "```\n",
    "- File1.format - this file contains data representing an example of things and is formatted in a consistant way\n",
    "- \n",
    "```\n",
    "\n",
    "Where possible (if the code supports it), use code examples that visually display the data in the tutorial. For example, if you are showing an object such as a Table, display a preview of the table."
   ]
  },
  {
   "cell_type": "code",
   "execution_count": 62,
   "metadata": {
    "slideshow": {
     "slide_type": "fragment"
    }
   },
   "outputs": [],
   "source": [
    "# Student_choices = choices.tsv (contains the top 3 choices of each student, tab seperated)\n"
   ]
  },
  {
   "cell_type": "markdown",
   "metadata": {},
   "source": [
    "### Visualizing the example data"
   ]
  },
  {
   "cell_type": "code",
   "execution_count": null,
   "metadata": {},
   "outputs": [
    {
     "data": {
      "text/html": [
       "\n",
       "    <div style=\"font-size: 20px; margin: 20px;\">\n",
       "        <h2 style=\"text-align: center; color: #ffffff; background-color: #007acc; padding: 10px;\">Student Preferences</h2>\n",
       "        <table border=\"1\" style=\"width: 60%; margin: auto; border-collapse: collapse; font-size: 20px; text-align: center; background-color: #ffffff; color: #000000;\">\n",
       "            <tr style=\"background-color: #e3e3e3;\">\n",
       "                <th></th>\n",
       "                <th>Preferences</th>\n",
       "            </tr>\n",
       "    <tr><td>S1</td><td>A1, A2, A3</td></tr><tr><td>S2</td><td>A2, A3, A1</td></tr><tr><td>S3</td><td>A3, A1, A2</td></tr></table></div>"
      ],
      "text/plain": [
       "<IPython.core.display.HTML object>"
      ]
     },
     "metadata": {},
     "output_type": "display_data"
    }
   ],
   "source": [
    "# Sample preference lists\n",
    "students = {\n",
    "    'S1': ['A1', 'A2', 'A3'],\n",
    "    'S2': ['A2', 'A3', 'A1'],\n",
    "    'S3': ['A3', 'A1', 'A2']\n",
    "}\n",
    "\n",
    "algorithms = {\n",
    "    'A1': ['S1', 'S2', 'S3'],  #TA's will not run this, since we only have student choices!\n",
    "    'A2': ['S1', 'S2', 'S3'],  # Theoretically We could run this using submission date of answers for example\n",
    "    'A3': ['S1', 'S2', 'S3']\n",
    "}\n",
    "\n",
    "# Initialize the current matching\n",
    "current_matching = {}\n",
    "\n",
    "\n",
    "### Provide detailed comments\n",
    "\n",
    "\n",
    "# Create HTML tables for preferences and matching\n",
    "def generate_table(data, title):\n",
    "    table_html = f\"\"\"\n",
    "    <div style=\"font-size: 20px; margin: 20px;\">\n",
    "        <h2 style=\"text-align: center; color: #ffffff; background-color: #007acc; padding: 10px;\">{title}</h2>\n",
    "        <table border=\"1\" style=\"width: 60%; margin: auto; border-collapse: collapse; font-size: 20px; text-align: center; background-color: #ffffff; color: #000000;\">\n",
    "            <tr style=\"background-color: #e3e3e3;\">\n",
    "                <th></th>\n",
    "                <th>Preferences</th>\n",
    "            </tr>\n",
    "    \"\"\"\n",
    "    for key, values in data.items():\n",
    "        preferences = ', '.join(values) if values else \"(None)\"\n",
    "        table_html += f\"<tr><td>{key}</td><td>{preferences}</td></tr>\"\n",
    "    table_html += \"</table></div>\"\n",
    "    return table_html\n",
    "\n",
    "def generate_matching_table(matching):\n",
    "    table_html = f\"\"\"\n",
    "    <div style=\"font-size: 20px; margin: 20px;\">\n",
    "        <h2 style=\"text-align: center; color: #ffffff; background-color: #007acc; padding: 10px;\">Current Matching</h2>\n",
    "        <table border=\"1\" style=\"width: 60%; margin: auto; border-collapse: collapse; font-size: 20px; text-align: center; background-color: #ffffff; color: #000000;\">\n",
    "            <tr style=\"background-color: #e3e3e3;\">\n",
    "                <th>Student</th>\n",
    "                <th>Algorithm</th>\n",
    "            </tr>\n",
    "    \"\"\"\n",
    "    for student, algorithm in matching.items():\n",
    "        table_html += f\"<tr><td>{student}</td><td>{algorithm}</td></tr>\"\n",
    "    table_html += \"</table></div>\"\n",
    "    return table_html\n",
    "\n",
    "# Update and display all information\n",
    "def display_status(students, matching):\n",
    "    student_table = generate_table(students, \"Student Preferences\")\n",
    "    matching_table = generate_matching_table(matching)\n",
    "    display(HTML(student_table + matching_table))\n",
    "\n",
    "\n",
    "# Generate tables\n",
    "student_table = generate_table(students, \"Student Preferences\")\n",
    "\n",
    "# Display the tables\n",
    "display(HTML(student_table))\n"
   ]
  },
  {
   "cell_type": "markdown",
   "metadata": {},
   "source": [
    "### Algorithm implementation"
   ]
  },
  {
   "cell_type": "code",
   "execution_count": 80,
   "metadata": {},
   "outputs": [],
   "source": [
    "### Insert your definitions here"
   ]
  },
  {
   "cell_type": "markdown",
   "metadata": {},
   "source": [
    "### Visualizing one step in the algorithm/Algorithm run"
   ]
  },
  {
   "cell_type": "code",
   "execution_count": 81,
   "metadata": {},
   "outputs": [
    {
     "name": "stdout",
     "output_type": "stream",
     "text": [
      "\n",
      "Step 0: S1 is proposing...\n",
      "S1 proposes to A1\n",
      "A1 is free and accepts the proposal from S1.\n",
      "\n",
      "Current Matching State:\n",
      "Algorithm A1 is matched with Student S1\n",
      "\n",
      "Step 1: S2 is proposing...\n",
      "S2 proposes to A2\n",
      "A2 is free and accepts the proposal from S2.\n",
      "\n",
      "Current Matching State:\n",
      "Algorithm A1 is matched with Student S1\n",
      "Algorithm A2 is matched with Student S2\n",
      "\n",
      "Step 2: S3 is proposing...\n",
      "S3 proposes to A3\n",
      "A3 is free and accepts the proposal from S3.\n",
      "\n",
      "Current Matching State:\n",
      "Algorithm A1 is matched with Student S1\n",
      "Algorithm A2 is matched with Student S2\n",
      "Algorithm A3 is matched with Student S3\n",
      "\n",
      "Final Matching:\n",
      "Algorithm A1 is matched with Student S1\n",
      "Algorithm A2 is matched with Student S2\n",
      "Algorithm A3 is matched with Student S3\n"
     ]
    },
    {
     "data": {
      "text/html": [
       "\n",
       "    <div style=\"font-size: 20px; margin: 20px;\">\n",
       "        <h2 style=\"text-align: center; color: #ffffff; background-color: #007acc; padding: 10px;\">Student Preferences</h2>\n",
       "        <table border=\"1\" style=\"width: 60%; margin: auto; border-collapse: collapse; font-size: 20px; text-align: center; background-color: #ffffff; color: #000000;\">\n",
       "            <tr style=\"background-color: #e3e3e3;\">\n",
       "                <th></th>\n",
       "                <th>Preferences</th>\n",
       "            </tr>\n",
       "    <tr><td>S1</td><td>A1, A2, A3</td></tr><tr><td>S2</td><td>A2, A3, A1</td></tr><tr><td>S3</td><td>A3, A1, A2</td></tr></table></div>\n",
       "    <div style=\"font-size: 20px; margin: 20px;\">\n",
       "        <h2 style=\"text-align: center; color: #ffffff; background-color: #007acc; padding: 10px;\">Current Matching</h2>\n",
       "        <table border=\"1\" style=\"width: 60%; margin: auto; border-collapse: collapse; font-size: 20px; text-align: center; background-color: #ffffff; color: #000000;\">\n",
       "            <tr style=\"background-color: #e3e3e3;\">\n",
       "                <th>Student</th>\n",
       "                <th>Algorithm</th>\n",
       "            </tr>\n",
       "    <tr><td>A1</td><td>S1</td></tr><tr><td>A2</td><td>S2</td></tr><tr><td>A3</td><td>S3</td></tr></table></div>"
      ],
      "text/plain": [
       "<IPython.core.display.HTML object>"
      ]
     },
     "metadata": {},
     "output_type": "display_data"
    }
   ],
   "source": [
    "# Gale-Shapley Algorithm Implementation with Debug Outputs\n",
    "\n",
    "def gale_shapley_with_debug(students, algorithms):\n",
    "    unmatched_students = list(students.keys())  # Start with all students unmatched\n",
    "    proposals = {student: [] for student in students}  # Track proposals by each student\n",
    "    current_matching = {}  # Stores the final matches\n",
    "\n",
    "    step = 0  # Step counter for debugging\n",
    "\n",
    "    while unmatched_students:\n",
    "        student = unmatched_students.pop(0)  # Pick an unmatched student\n",
    "        print(f\"\\nStep {step}: {student} is proposing...\")  # Debug output\n",
    "        step += 1\n",
    "\n",
    "        for algorithm in students[student]:\n",
    "            if algorithm not in proposals[student]:\n",
    "                # Student proposes to the next algorithm on their list\n",
    "                proposals[student].append(algorithm)\n",
    "                print(f\"{student} proposes to {algorithm}\")  # Debug output\n",
    "\n",
    "                if algorithm not in current_matching:\n",
    "                    # Algorithm is free, match them\n",
    "                    print(f\"{algorithm} is free and accepts the proposal from {student}.\")\n",
    "                    current_matching[algorithm] = student\n",
    "                    break\n",
    "                else:\n",
    "                    # Algorithm is already matched, check preferences\n",
    "                    current_match = current_matching[algorithm]\n",
    "                    print(f\"{algorithm} is currently matched with {current_match}.\")\n",
    "                    \n",
    "                    if algorithms[algorithm].index(student) < algorithms[algorithm].index(current_match):\n",
    "                        # Algorithm prefers this new student\n",
    "                        print(f\"{algorithm} prefers {student} over {current_match}.\")\n",
    "                        current_matching[algorithm] = student\n",
    "                        unmatched_students.append(current_match)  # The previous match becomes unmatched\n",
    "                        print(f\"{current_match} is now unmatched.\")\n",
    "                        break\n",
    "                    else:\n",
    "                        # Algorithm rejects the proposal\n",
    "                        print(f\"{algorithm} prefers {current_match} over {student}.\")\n",
    "        \n",
    "        # Display current state after each student's proposal\n",
    "        print(\"\\nCurrent Matching State:\")\n",
    "        for algo, stud in current_matching.items():\n",
    "            print(f\"Algorithm {algo} is matched with Student {stud}\")\n",
    "    \n",
    "    return current_matching\n",
    "\n",
    "# Run the Gale-Shapley algorithm with debug outputs\n",
    "final_matching = gale_shapley_with_debug(students, algorithms)\n",
    "\n",
    "# Display final matching\n",
    "print(\"\\nFinal Matching:\")\n",
    "for algo, stud in final_matching.items():\n",
    "    print(f\"Algorithm {algo} is matched with Student {stud}\")\n",
    "display_status(students, final_matching)\n"
   ]
  },
  {
   "cell_type": "markdown",
   "metadata": {},
   "source": [
    "### Algorithm run time"
   ]
  },
  {
   "cell_type": "code",
   "execution_count": 67,
   "metadata": {},
   "outputs": [],
   "source": [
    "## Does the algorithm run fast/slow ? is it robust?"
   ]
  },
  {
   "cell_type": "markdown",
   "metadata": {},
   "source": [
    "### Algorithm weaknessess"
   ]
  },
  {
   "cell_type": "code",
   "execution_count": 1,
   "metadata": {},
   "outputs": [],
   "source": [
    "## What can't the algorithm do, why does this algorithm not solve all our problems?"
   ]
  },
  {
   "cell_type": "markdown",
   "metadata": {},
   "source": [
    "### Algorithm output"
   ]
  },
  {
   "cell_type": "code",
   "execution_count": 66,
   "metadata": {},
   "outputs": [],
   "source": [
    "## Show your algorithm output/result here"
   ]
  },
  {
   "cell_type": "markdown",
   "metadata": {},
   "source": [
    "### Algorithm use cases"
   ]
  },
  {
   "cell_type": "code",
   "execution_count": 68,
   "metadata": {},
   "outputs": [],
   "source": [
    "## outline some useful cases for implementation of the algorithm"
   ]
  },
  {
   "cell_type": "markdown",
   "metadata": {},
   "source": [
    "## Additional Resources\n",
    "\n",
    "This section is optional. For resources that do not fit cleanly into your narrative, you may include an additional resources section at the end of your tutorial. Usually a list of links using Markdown bullet list plus link format is appropriate:\n",
    "\n",
    "- [Link](https://www.webaxe.org/wp-content/uploads/2014/09/this-is-button-link.png)\n"
   ]
  },
  {
   "cell_type": "markdown",
   "metadata": {
    "slideshow": {
     "slide_type": "slide"
    }
   },
   "source": [
    "## About this Notebook\n",
    "You can let the world know who the authors of this great tutorial are! If you want, you can include a contact email address for users who might need support. You can also include a last update date in this section. Let us know if you would want this notebook integrated into a resource or whether to keep it only for the current class\n",
    "\n",
    "for example\n",
    "\n",
    "**Authors:** Firstnames Lastnames, BMI Students.  \n",
    "**Updated On:** YYYY-MM-DD\n",
    "\n",
    "**Contact:**  student@email.edu"
   ]
  },
  {
   "cell_type": "markdown",
   "metadata": {},
   "source": [
    "## References\n",
    "\n",
    "### Papers\n",
    "```\n",
    "Gale, David, and Lloyd S. Shapley.\n",
    "“College Admissions and the Stability of Marriage.”\n",
    "The American Mathematical Monthly 69, no. 1 (1962): 9–15.\n",
    "\n",
    "\n",
    "```\n",
    "### Package citation/github page\n",
    "\n",
    "* [Citing `IPython`](https://ipython.org/citing.html)\n",
    "\n",
    "### Other resources\n"
   ]
  },
  {
   "cell_type": "markdown",
   "metadata": {},
   "source": [
    "***"
   ]
  },
  {
   "cell_type": "markdown",
   "metadata": {},
   "source": [
    "[Back to Top of the page](#top)\n",
    "\n",
    "\n",
    "[Back to Table of Contents](#table-of-contents)\n",
    "\n",
    "\n",
    "<img style=\"float: right;\" src=\"https://identity.ucsf.edu/sites/g/files/tkssra266/f/wysiwyg/logo_signature_0.jpg\" alt=\"UCSF Logo\" width=\"200px\"/>\n"
   ]
  }
 ],
 "metadata": {
  "kernelspec": {
   "display_name": "Python 3",
   "language": "python",
   "name": "python3"
  },
  "language_info": {
   "codemirror_mode": {
    "name": "ipython",
    "version": 3
   },
   "file_extension": ".py",
   "mimetype": "text/x-python",
   "name": "python",
   "nbconvert_exporter": "python",
   "pygments_lexer": "ipython3",
   "version": "3.9.6"
  }
 },
 "nbformat": 4,
 "nbformat_minor": 2
}
