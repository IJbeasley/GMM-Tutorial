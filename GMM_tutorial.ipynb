{
 "cells": [
  {
   "cell_type": "markdown",
   "metadata": {
    "slideshow": {
     "slide_type": "slide"
    }
   },
   "source": [
    "<a id=\"top\"></a>\n",
    "# BMI203 2025 Gaussian Mixture Model Tutorial\n",
    "January 28th 2025"
   ]
  },
  {
   "cell_type": "markdown",
   "metadata": {
    "slideshow": {
     "slide_type": "skip"
    }
   },
   "source": [
    "***"
   ]
  },
  {
   "cell_type": "markdown",
   "metadata": {},
   "source": [
    "## Table of Contents\n",
    "- [Introduction](#introduction-gaussian-mixture-models-gmms)\n",
    "  - [Key features of this algorithm](#key-features)\n",
    "  - [Required packages for this tutorial](#required-packages)\n",
    "\n",
    "- [K-means vs Gaussian Mixture Models](#k-means-vs-gaussian-mixture-models-clustering)\n",
    "- [How to choose the number of clusters?](#how-to-choose-the-number-of-clusters)\n",
    "- [Example Use Cases](#example-use-cases)\n"
   ]
  },
  {
   "cell_type": "markdown",
   "metadata": {},
   "source": [
    "## Learning Goals\n",
    "\n",
    "By the end of this tutorial, you will be able to:\n",
    "\n",
    "- **Explain** when Gaussian Mixture Models (GMMs) should be used instead of K-means.  \n",
    "-  **Describe** approaches for determining the optimal number of mixtures (clusters) in Gaussian Mixture Models.  \n",
    "- **Name** some common use cases for Gaussian Mixture Models.\n"
   ]
  },
  {
   "cell_type": "markdown",
   "metadata": {
    "slideshow": {
     "slide_type": "slide"
    }
   },
   "source": [
    "## Introduction: Gaussian Mixture Models (GMMs)\n",
    "\n",
    "\n",
    "Gaussian Mixture Models (GMMs) are a type of clustering algorithm commonly used in research and bioinformatics. This algorithm models data points as coming from a \"mixture\" of multiple Gaussian distributions.\n",
    "\n",
    "### Key Features:\n",
    "- **Soft Clustering**: Instead of assigning each sample to a single cluster, GMMs assign probabilities for a sample to belong to each cluster.  \n",
    "- **Unsupervised**: The true cluster labels of samples are not known during training.  \n",
    "- **Generative**: GMMs can be used to generate synthetic data based on the learned distribution.  \n",
    "- **Predefined Number of Clusters**: The number of clusters must be specified beforehand, which can be challenging if it is unknown.  \n",
    "- **Advantages over K-Means**: GMMs are preferred over K-means when soft clustering is required (e.g., overlapping clusters) or when data generation is needed.  \n",
    "- **Computational Demand**: GMMs can be computationally intensive, particularly for large datasets or high-dimensional data.\n",
    "\n",
    "\n",
    "### Resources with good overviews: \n",
    "- [Understanding Gaussian Mixture Models: A Comprehensive Guide](https://medium.com/@juanc.olamendy/understanding-gaussian-mixture-models-a-comprehensive-guide-df30af59ced7)\n",
    "- [Build Better and Accurate Clusters with Gaussian Mixture Models](https://www.analyticsvidhya.com/blog/2019/10/gaussian-mixture-models-clustering/)\n",
    "  - Also briefly introduces clustering and k-means clustering, to explain the importance / value of GMM"
   ]
  },
  {
   "cell_type": "markdown",
   "metadata": {},
   "source": [
    "***"
   ]
  },
  {
   "cell_type": "markdown",
   "metadata": {
    "slideshow": {
     "slide_type": "slide"
    }
   },
   "source": [
    "### Required Packages\n",
    "- *numpy* to handle array functions\n",
    "- *matplotlib.pyplot* for plotting data\n",
    "- *sklearn* for generating toy data, and running clustering algorithms  \n",
    "  -  pip package is scikit-learn"
   ]
  },
  {
   "cell_type": "code",
   "execution_count": 1,
   "metadata": {
    "slideshow": {
     "slide_type": "fragment"
    }
   },
   "outputs": [],
   "source": [
    "%matplotlib inline\n",
    "import numpy as np\n",
    "import matplotlib.pyplot as plt\n",
    "# import sklearn"
   ]
  },
  {
   "cell_type": "markdown",
   "metadata": {},
   "source": [
    "## K-means vs Gaussian Mixture Models clustering\n",
    "\n",
    "### Generating example data\n",
    "\n",
    "Below we are going to use the sklearn package to create two datasets. "
   ]
  },
  {
   "cell_type": "code",
   "execution_count": null,
   "metadata": {},
   "outputs": [],
   "source": [
    "# set seed for reproducibility\n",
    "random_state=28\n",
    "\n",
    "from sklearn.datasets import make_blobs\n",
    "\n",
    "# generate 2d dataset\n",
    "Xa, Ya= make_blobs(n_samples=100,  \n",
    "                                         centers=[[2, 2], [3, 3], [4, 4]], # mid point of each cluster\n",
    "                                         cluster_std = [2,4,3], # standard devivation of each cluster\n",
    "                                         random_state=random_state)\n",
    "\n",
    "Xb, Yb = make_blobs(n_samples=100,  \n",
    "                                         centers=[[2, 2], [3, 3], [4, 4]],\n",
    "                                         cluster_std = [1,1,1],\n",
    "                                         random_state=random_state)\n"
   ]
  },
  {
   "cell_type": "markdown",
   "metadata": {},
   "source": [
    "### Question\n",
    "\n",
    "Before visualising the above datasets, can you tell what the differences between the two datasets is? "
   ]
  },
  {
   "cell_type": "markdown",
   "metadata": {},
   "source": [
    "**Answer:** "
   ]
  },
  {
   "cell_type": "markdown",
   "metadata": {},
   "source": [
    "### Visualizing the example data"
   ]
  },
  {
   "cell_type": "code",
   "execution_count": null,
   "metadata": {},
   "outputs": [
    {
     "data": {
      "text/html": [
       "\n",
       "    <div style=\"font-size: 20px; margin: 20px;\">\n",
       "        <h2 style=\"text-align: center; color: #ffffff; background-color: #007acc; padding: 10px;\">Student Preferences</h2>\n",
       "        <table border=\"1\" style=\"width: 60%; margin: auto; border-collapse: collapse; font-size: 20px; text-align: center; background-color: #ffffff; color: #000000;\">\n",
       "            <tr style=\"background-color: #e3e3e3;\">\n",
       "                <th></th>\n",
       "                <th>Preferences</th>\n",
       "            </tr>\n",
       "    <tr><td>S1</td><td>A1, A2, A3</td></tr><tr><td>S2</td><td>A2, A3, A1</td></tr><tr><td>S3</td><td>A3, A1, A2</td></tr></table></div>"
      ],
      "text/plain": [
       "<IPython.core.display.HTML object>"
      ]
     },
     "metadata": {},
     "output_type": "display_data"
    }
   ],
   "source": [
    "# Flip axes for Xa to change orientation\n",
    "Xa = Xa[:, ::-1]\n",
    "Xb = Xb[:, ::-1]\n",
    "\n",
    "# Scatter plot for both datasets\n",
    "plt.scatter(Xa[:, 0], Xa[:, 1], c=Ya, s=40, cmap='viridis', label=\"Dataset A\")  # Dataset A\n",
    "plt.scatter(Xb[:, 0], Xb[:, 1], c=Yb, s=40, cmap='plasma', label=\"Dataset B\")  # Dataset B\n",
    "plt.legend()\n",
    "plt.show()"
   ]
  },
  {
   "cell_type": "markdown",
   "metadata": {},
   "source": [
    "## Question: \n",
    "\n",
    "Now, having visualized both datasets, what is the difference in the cluster make up of each of these datasets? \n",
    "\n",
    "**Answer:** \n"
   ]
  },
  {
   "cell_type": "markdown",
   "metadata": {},
   "source": [
    "## Question: \n",
    "\n",
    "Which dataset is more reflective of clusters in biological datasets? Can you think of example of biological data that might look like the second dataset? \n",
    "\n",
    "**Answer:** "
   ]
  },
  {
   "cell_type": "markdown",
   "metadata": {},
   "source": [
    "### Comparing K-means to Gaussian Mixture Models algorithms on the first dataset "
   ]
  },
  {
   "cell_type": "code",
   "execution_count": null,
   "metadata": {},
   "outputs": [],
   "source": [
    "# Apply K-means clustering with 3 clusters (since we know there are 3 centers)\n",
    "from sklearn.cluster import KMeans\n",
    "kmeans = KMeans(n_clusters=3, random_state=random_state)\n",
    "kmeans.fit(Xa)\n",
    "\n",
    "# Get the cluster labels predicted by K-means\n",
    "y_kmeans = kmeans.predict(Xa)\n",
    "\n",
    "# Scatter plot the data with true labels and predicted labels\n",
    "plt.figure(figsize=(8, 6))\n",
    "\n",
    "# True labels scatter plot\n",
    "plt.scatter(Xa[:, 0], Xa[:, 1], c=Ya, s=40, cmap='viridis', marker='o', label=\"True Labels\")\n",
    "\n",
    "# K-means predicted labels scatter plot\n",
    "plt.scatter(Xa[:, 0], Xa[:, 1], c=y_kmeans, s=40, cmap='plasma', marker='x', alpha=0.5, label=\"K-means Clusters\")\n",
    "\n",
    "plt.legend()\n",
    "plt.title('K-means Clustering on Dataset A')\n",
    "plt.show()"
   ]
  },
  {
   "cell_type": "code",
   "execution_count": null,
   "metadata": {},
   "outputs": [],
   "source": [
    "from sklearn.mixture import GaussianMixture\n",
    "\n",
    "# Apply Gaussian Mixture Model with 3 components (since we know there are 3 clusters)\n",
    "gmm = GaussianMixture(n_components=3, random_state=random_state)\n",
    "gmm.fit(Xa)\n",
    "\n",
    "# Get the cluster labels predicted by GMM\n",
    "y_gmm = gmm.predict(Xa)\n",
    "\n",
    "# Scatter plot the data with true labels and predicted labels\n",
    "plt.figure(figsize=(8, 6))\n",
    "\n",
    "# True labels scatter plot\n",
    "plt.scatter(Xa[:, 0], Xa[:, 1], c=Ya, s=40, cmap='viridis', marker='o', label=\"True Labels\")\n",
    "\n",
    "# GMM predicted labels scatter plot\n",
    "plt.scatter(Xa[:, 0], Xa[:, 1], c=y_gmm, s=40, cmap='plasma', marker='x', alpha=0.5, label=\"GMM Clusters\")\n",
    "\n",
    "plt.legend()\n",
    "plt.title('Gaussian Mixture Model (GMM) Clustering on Dataset A')\n",
    "plt.show()"
   ]
  },
  {
   "cell_type": "markdown",
   "metadata": {},
   "source": [
    "## How to choose the number of clusters?\n",
    "There's no single ubiquitous approach to choosing the number of mixtures when implementing the GMM algorithm. \n",
    "\n",
    "Here's some common approaches:\n",
    "\n",
    "Good guessing before implementing the algorithm:  \n",
    "- Prior Domain Knowledge\n",
    "  - Do you know how many clusters there should be, or you want there to be? \n",
    "- Visualization \n",
    "  - When you plot the data (often using dimension reduction techniques), do you notice a particular number of clusters? \n",
    "\n",
    "Comparing the results after implementing the algorithm inputting different number of mixtures: \n",
    "- Bayesian Information Criterion (BIC) \n",
    "  - [Example of sklearn implementation](https://scikit-learn.org/dev/auto_examples/mixture/plot_gmm_selection.html)\n",
    "- Silhouette coefficients\n",
    "   - [Example using sklearn with K-means](https://scikit-learn.org/stable/auto_examples/cluster/plot_kmeans_silhouette_analysis.html#sphx-glr-auto-examples-cluster-plot-kmeans-silhouette-analysis-py)\n"
   ]
  },
  {
   "cell_type": "code",
   "execution_count": 81,
   "metadata": {},
   "outputs": [
    {
     "name": "stdout",
     "output_type": "stream",
     "text": [
      "\n",
      "Step 0: S1 is proposing...\n",
      "S1 proposes to A1\n",
      "A1 is free and accepts the proposal from S1.\n",
      "\n",
      "Current Matching State:\n",
      "Algorithm A1 is matched with Student S1\n",
      "\n",
      "Step 1: S2 is proposing...\n",
      "S2 proposes to A2\n",
      "A2 is free and accepts the proposal from S2.\n",
      "\n",
      "Current Matching State:\n",
      "Algorithm A1 is matched with Student S1\n",
      "Algorithm A2 is matched with Student S2\n",
      "\n",
      "Step 2: S3 is proposing...\n",
      "S3 proposes to A3\n",
      "A3 is free and accepts the proposal from S3.\n",
      "\n",
      "Current Matching State:\n",
      "Algorithm A1 is matched with Student S1\n",
      "Algorithm A2 is matched with Student S2\n",
      "Algorithm A3 is matched with Student S3\n",
      "\n",
      "Final Matching:\n",
      "Algorithm A1 is matched with Student S1\n",
      "Algorithm A2 is matched with Student S2\n",
      "Algorithm A3 is matched with Student S3\n"
     ]
    },
    {
     "data": {
      "text/html": [
       "\n",
       "    <div style=\"font-size: 20px; margin: 20px;\">\n",
       "        <h2 style=\"text-align: center; color: #ffffff; background-color: #007acc; padding: 10px;\">Student Preferences</h2>\n",
       "        <table border=\"1\" style=\"width: 60%; margin: auto; border-collapse: collapse; font-size: 20px; text-align: center; background-color: #ffffff; color: #000000;\">\n",
       "            <tr style=\"background-color: #e3e3e3;\">\n",
       "                <th></th>\n",
       "                <th>Preferences</th>\n",
       "            </tr>\n",
       "    <tr><td>S1</td><td>A1, A2, A3</td></tr><tr><td>S2</td><td>A2, A3, A1</td></tr><tr><td>S3</td><td>A3, A1, A2</td></tr></table></div>\n",
       "    <div style=\"font-size: 20px; margin: 20px;\">\n",
       "        <h2 style=\"text-align: center; color: #ffffff; background-color: #007acc; padding: 10px;\">Current Matching</h2>\n",
       "        <table border=\"1\" style=\"width: 60%; margin: auto; border-collapse: collapse; font-size: 20px; text-align: center; background-color: #ffffff; color: #000000;\">\n",
       "            <tr style=\"background-color: #e3e3e3;\">\n",
       "                <th>Student</th>\n",
       "                <th>Algorithm</th>\n",
       "            </tr>\n",
       "    <tr><td>A1</td><td>S1</td></tr><tr><td>A2</td><td>S2</td></tr><tr><td>A3</td><td>S3</td></tr></table></div>"
      ],
      "text/plain": [
       "<IPython.core.display.HTML object>"
      ]
     },
     "metadata": {},
     "output_type": "display_data"
    }
   ],
   "source": [
    "\n"
   ]
  },
  {
   "cell_type": "markdown",
   "metadata": {},
   "source": [
    "## Example Use Cases"
   ]
  },
  {
   "cell_type": "code",
   "execution_count": 68,
   "metadata": {},
   "outputs": [],
   "source": [
    "## outline some useful cases for implementation of the algorithm"
   ]
  },
  {
   "cell_type": "markdown",
   "metadata": {},
   "source": [
    "***"
   ]
  },
  {
   "cell_type": "markdown",
   "metadata": {},
   "source": [
    "[Back to Top of the page](#top)\n",
    "\n",
    "\n",
    "[Back to Table of Contents](#table-of-contents)\n",
    "\n",
    "\n",
    "<img style=\"float: right;\" src=\"https://identity.ucsf.edu/sites/g/files/tkssra266/f/wysiwyg/logo_signature_0.jpg\" alt=\"UCSF Logo\" width=\"200px\"/>\n"
   ]
  }
 ],
 "metadata": {
  "kernelspec": {
   "display_name": "GMM-Tute",
   "language": "python",
   "name": "python3"
  },
  "language_info": {
   "codemirror_mode": {
    "name": "ipython",
    "version": 3
   },
   "file_extension": ".py",
   "mimetype": "text/x-python",
   "name": "python",
   "nbconvert_exporter": "python",
   "pygments_lexer": "ipython3",
   "version": "3.12.8"
  }
 },
 "nbformat": 4,
 "nbformat_minor": 2
}
